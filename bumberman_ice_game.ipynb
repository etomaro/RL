{
  "nbformat": 4,
  "nbformat_minor": 0,
  "metadata": {
    "colab": {
      "provenance": [],
      "authorship_tag": "ABX9TyOz8BPbEJ7K0MPJcNjoiOi8",
      "include_colab_link": true
    },
    "kernelspec": {
      "name": "python3",
      "display_name": "Python 3"
    },
    "language_info": {
      "name": "python"
    }
  },
  "cells": [
    {
      "cell_type": "markdown",
      "metadata": {
        "id": "view-in-github",
        "colab_type": "text"
      },
      "source": [
        "<a href=\"https://colab.research.google.com/github/etomaro/RL/blob/main/bumberman_ice_game.ipynb\" target=\"_parent\"><img src=\"https://colab.research.google.com/assets/colab-badge.svg\" alt=\"Open In Colab\"/></a>"
      ]
    },
    {
      "cell_type": "markdown",
      "source": [
        "ボンバーマンのiceゲームを様々なAIモデルでクリアする\n",
        "\n",
        "ルール\n",
        "\n",
        "・keyをすべて取得しないとゴールできない\n",
        "\n",
        "・一度通ったますは二度踏めない\n",
        "\n",
        "\n"
      ],
      "metadata": {
        "id": "vNsd5tFmxjaz"
      }
    },
    {
      "cell_type": "markdown",
      "source": [
        "一旦stage1のみ\n",
        "\n",
        "ゲーム状態\n",
        "4×5×4(4行5列 + (keyの有無、レイヤーの有無、一度通った有無、何もないマス))\n",
        "\n",
        "\n",
        "ゲーム描画のマーク\n",
        "\n",
        "1. 通ってない何もないマス -> 空白, 状態=0\n",
        "\n",
        "2. プレイヤー -> ☆, 状態=1\n",
        "\n",
        "3. 一度通ったマス -> ✖, 状態=2\n",
        "\n",
        "4. key -> △, 状態=3\n",
        "\n",
        "※ プレイヤーがいるマスは一度通ったマスにする\n",
        "\n",
        "アクションリスト\n",
        "\n",
        "右=0, 上=1, 左=2, 下=3"
      ],
      "metadata": {
        "id": "rx5YDw5xHIHw"
      }
    },
    {
      "cell_type": "code",
      "source": [
        "import numpy as np\n",
        "\n",
        "class Game():\n",
        "    ACTIONS = [0, 1, 2, 3]  # 右、上、左、下\n",
        "    # 移動の際に使う値\n",
        "    act_dict = {\n",
        "        '0': np.array([0,1]),\n",
        "        '1': np.array([-1,0]),\n",
        "        '2': np.array([0,-1]),\n",
        "        '3': np.array([1,0])\n",
        "    }\n",
        "    def __init__(self):\n",
        "        self.reset()\n",
        "    \n",
        "    # ゲーム開始\n",
        "    def start(self):\n",
        "        print(f\"GAME START!\")\n",
        "\n",
        "        # ゲーム終了するまで繰り返す\n",
        "        while True:\n",
        "            self.render()\n",
        "            # 行動を選択する\n",
        "            action = self.input_action(self.player_pos)\n",
        "            # 行動する\n",
        "            state, reward, is_done, info = self.step(action)\n",
        "            if is_done:\n",
        "                # ゲーム終了\n",
        "                print(info)\n",
        "                break\n",
        "    \n",
        "    # ゲームをリセットする\n",
        "    def reset(self):\n",
        "        \"\"\"\n",
        "        ゲーム状態初期\n",
        "          key\n",
        "            (0,0), (0,4), (2,2)\n",
        "        　player\n",
        "            (3,2)\n",
        "        \"\"\"\n",
        "        state = np.zeros(shape=(4,5,1))\n",
        "        # keyの設定(なにもない: 0, player: 1, 踏済: 2, key: 3)\n",
        "        state[0][0], state[0][4], state[2][2] = [3],[3],[3]\n",
        "        # playerの設定\n",
        "        state[3][2] = [1]\n",
        "        self.state = state\n",
        "\n",
        "        # playerのポジション\n",
        "        self.player_pos = [3,2]\n",
        "\n",
        "        # 何回目の行動化\n",
        "        self.count = 0\n",
        "\n",
        "        # keyの取得数\n",
        "        self.get_key = 0\n",
        "\n",
        "    # ゲームを描画する\n",
        "    def render(self):\n",
        "        template =\\\n",
        "\"\"\"\n",
        "           --- \n",
        "          | G |\n",
        " ---  ---  ---  ---  --- \n",
        "| 0-0 | 0-1 | 0-2 | 0-3 | 0-4 |\n",
        " ---  ---  ---  ---  --- \n",
        "| 1-0 | 1-1 | 1-2 | 1-3 | 1-4 |\n",
        " ---  ---  ---  ---  --- \n",
        "| 2-0 | 2-1 | 2-2 | 2-3 | 2-4 |\n",
        " ---  ---  ---  ---  --- \n",
        "| 3-0 | 3-1 | 3-2 | 3-3 | 3-4 |\n",
        " ---  ---  ---  ---  --- \n",
        "\"\"\"\n",
        "        # key->△, player->☆, 踏済マス->✖, 何もないマス->空白\n",
        "        for x, i in enumerate(self.state):\n",
        "            for y, j in enumerate(i):\n",
        "                rep_str = \"  \"\n",
        "                rep_idx = f\"{x}-{y}\"\n",
        "                if j[0] == 1:  # playerの場合\n",
        "                    rep_str = \"☆\"\n",
        "                elif j[0] == 2:  # 踏済の場合\n",
        "                    rep_str = \"✖\"\n",
        "                elif j[0] == 3:  # マスがkeyの場合\n",
        "                    rep_str = \"△\"\n",
        "                # 置換\n",
        "                template = template.replace(rep_idx, rep_str)\n",
        "        \n",
        "        # 出力\n",
        "        print(f\"\\n\\nturn = {str(self.count)}\\n{template}\")\n",
        "        \n",
        "    # 状態をセットする\n",
        "    def set_state(self):\n",
        "        pass\n",
        "    \n",
        "    # 状態を取得する\n",
        "    def get_state(self):\n",
        "        pass\n",
        "    \n",
        "    # 行動を入力する\n",
        "    def input_action(self, player_pos):\n",
        "        action_txt = \"\"\n",
        "        actionable_list = self.get_actionable_list(player_pos)\n",
        "        if 0 in actionable_list:\n",
        "            action_txt += \"右に進む: ０を入力してください\\n\"\n",
        "        if 1 in actionable_list:\n",
        "            action_txt += \"上に進む: 1を入力してください\\n\"\n",
        "        if 2 in actionable_list:\n",
        "            action_txt += \"左に進む: 2を入力してください\\n\"\n",
        "        if 3 in actionable_list:\n",
        "            action_txt += \"下に進む: 3を入力してください\\n\"\n",
        "        \n",
        "        is_actionable_input = False \n",
        "        while not is_actionable_input:\n",
        "\n",
        "            action = input(\\\n",
        "f\"\"\"\n",
        "行動を入力してください\n",
        "{action_txt}\n",
        "\"\"\")\n",
        "            if int(action) in actionable_list:\n",
        "                is_actionable_input = True\n",
        "            else:\n",
        "                print(\"可能な行動が選択されませんでした。再度行動を選択してください\\n\")\n",
        "\n",
        "        return int(action)\n",
        "\n",
        "    # 行動する\n",
        "    def step(self, action):\n",
        "        \"\"\"\n",
        "        Return\n",
        "          state\n",
        "          reward\n",
        "          is_done\n",
        "          info\n",
        "        \"\"\"\n",
        "        info = \"\"\n",
        "        reward = 0  # 一旦0にしとく\n",
        "\n",
        "        # 移動量を取得\n",
        "        move_coord = self.act_dict[str(action)].copy()\n",
        "        # 新しいプレイヤー位置\n",
        "        pos_new = move_coord + self.player_pos\n",
        "\n",
        "        # ゲーム終了判定\n",
        "        is_done, is_clear = self.is_done(pos_new, self.state)\n",
        "        if is_done and is_clear:\n",
        "            info = \"GAME CLEAR\"\n",
        "        elif is_done and not is_clear:\n",
        "            info = \"GAME OVER\"\n",
        "\n",
        "        # --更新--\n",
        "        # 現在のプレイヤーのマスの行動する前のマスの状態を取得する\n",
        "        x, y = pos_new[0], pos_new[1]\n",
        "        pre_x, pre_y = self.player_pos[0], self.player_pos[1]\n",
        "\n",
        "        pre_state_xy = self.state[x][y]\n",
        "        # keyの場合\n",
        "        if pre_state_xy[0] == 3:\n",
        "            self.get_key += 1  # increment\n",
        "        self.state[x][y][0] = 1  # 今のマスをplayerの状態に更新\n",
        "        self.state[pre_x][pre_y][0] = 2  # 前のマスを踏済の状態に更新\n",
        "\n",
        "        self.player_pos = pos_new  # playerの現在位置\n",
        "        self.count += 1  # 行動回数\n",
        "\n",
        "        # print(\"count: \", self.count)\n",
        "        # print(\"player_pos: \", self.player_pos)\n",
        "        # print(f\"pre_x:{pre_x} pre_y:{pre_y}\")\n",
        "        # print(\"pre_state_xy: \", pre_state_xy)\n",
        "        # print(f\"x:{x} y:{y}\")\n",
        "        # print(\"state_xy: \", self.state[x][y])\n",
        "\n",
        "        return self.state, reward, is_done, info\n",
        "\n",
        "    # 可能な行動リストを取得する\n",
        "    def get_actionable_list(self, player_pos):\n",
        "        action_list = self.ACTIONS.copy()\n",
        "        # 壁に衝突するアクションは選択できない\n",
        "        if player_pos[0] == 0:\n",
        "            action_list.remove(1)\n",
        "        if player_pos[0] == 3:\n",
        "            action_list.remove(3)\n",
        "        if player_pos[1] == 0:\n",
        "            action_list.remove(2)\n",
        "        if player_pos[1] == 4:\n",
        "            action_list.remove(0)\n",
        "        \n",
        "        return action_list\n",
        "    \n",
        "    # アクション可能か判定する\n",
        "    def is_actionable(self, player_pos, action):\n",
        "        actionable_list = self.get_actionable_list(player_pos)\n",
        "        if action in actionable_list:\n",
        "            return True\n",
        "        else:\n",
        "            return False\n",
        "\n",
        "    # 報酬\n",
        "    def reward(self):\n",
        "        pass\n",
        "\n",
        "    # ゲーム終了か判定\n",
        "    def is_done(self, player_pos, pre_state):\n",
        "        \"\"\"\n",
        "        ゲーム終了する条件\n",
        "        GAME OVER\n",
        "            1. 二度マスを踏む\n",
        "            2. keyをすべて取得してない状態でゴール\n",
        "        GAME CLEAR\n",
        "            1. keyをすべて取得した状態でゴール\n",
        "        \n",
        "        Return\n",
        "            ゲーム終了かどうか, ゲームクリアかどうか\n",
        "        \"\"\"\n",
        "        # 現在のプレイヤーのマスの行動する前のマスの状態を取得する\n",
        "        x, y = player_pos[0], player_pos[1]\n",
        "        pre_state_xy = pre_state[x][y]\n",
        "\n",
        "        # playerの位置がgoal(0,2)の場合\n",
        "        if x == 0 and y == 2:\n",
        "            if self.get_key == 3:\n",
        "                return True, True  # ゲームクリア\n",
        "            else:\n",
        "                return True, False  # GAME OVER\n",
        "        \n",
        "        # 二度マスを踏んだかどうか\n",
        "        if pre_state_xy[0] == 2:\n",
        "            return True, False  # GAME OVER\n",
        "        \n",
        "        return False, False  # ゲーム続行\n",
        "        \n",
        "\n",
        "game = Game()\n",
        "game.start()"
      ],
      "metadata": {
        "colab": {
          "base_uri": "https://localhost:8080/",
          "height": 1000
        },
        "id": "Tsfhfl6fFsbN",
        "outputId": "5c5accc8-c2de-4c7a-a616-5fecfe4a6635"
      },
      "execution_count": 72,
      "outputs": [
        {
          "output_type": "stream",
          "name": "stdout",
          "text": [
            "GAME START!\n",
            "\n",
            "\n",
            "turn = 0\n",
            "\n",
            "           --- \n",
            "          | G |\n",
            " ---  ---  ---  ---  --- \n",
            "| △ |    |    |    | △ |\n",
            " ---  ---  ---  ---  --- \n",
            "|    |    |    |    |    |\n",
            " ---  ---  ---  ---  --- \n",
            "|    |    | △ |    |    |\n",
            " ---  ---  ---  ---  --- \n",
            "|    |    | ☆ |    |    |\n",
            " ---  ---  ---  ---  --- \n",
            "\n",
            "\n",
            "行動を入力してください\n",
            "右に進む: ０を入力してください\n",
            "上に進む: 1を入力してください\n",
            "左に進む: 2を入力してください\n",
            "\n",
            "4\n",
            "可能な行動が選択されませんでした。再度行動を選択してください\n",
            "\n",
            "\n",
            "行動を入力してください\n",
            "右に進む: ０を入力してください\n",
            "上に進む: 1を入力してください\n",
            "左に進む: 2を入力してください\n",
            "\n",
            "2\n",
            "\n",
            "\n",
            "turn = 1\n",
            "\n",
            "           --- \n",
            "          | G |\n",
            " ---  ---  ---  ---  --- \n",
            "| △ |    |    |    | △ |\n",
            " ---  ---  ---  ---  --- \n",
            "|    |    |    |    |    |\n",
            " ---  ---  ---  ---  --- \n",
            "|    |    | △ |    |    |\n",
            " ---  ---  ---  ---  --- \n",
            "|    | ☆ | ✖ |    |    |\n",
            " ---  ---  ---  ---  --- \n",
            "\n"
          ]
        },
        {
          "output_type": "error",
          "ename": "KeyboardInterrupt",
          "evalue": "ignored",
          "traceback": [
            "\u001b[0;31m---------------------------------------------------------------------------\u001b[0m",
            "\u001b[0;31mKeyboardInterrupt\u001b[0m                         Traceback (most recent call last)",
            "\u001b[0;32m<ipython-input-72-88d551eb1a9c>\u001b[0m in \u001b[0;36m<module>\u001b[0;34m\u001b[0m\n\u001b[1;32m    230\u001b[0m \u001b[0;34m\u001b[0m\u001b[0m\n\u001b[1;32m    231\u001b[0m \u001b[0mgame\u001b[0m \u001b[0;34m=\u001b[0m \u001b[0mGame\u001b[0m\u001b[0;34m(\u001b[0m\u001b[0;34m)\u001b[0m\u001b[0;34m\u001b[0m\u001b[0;34m\u001b[0m\u001b[0m\n\u001b[0;32m--> 232\u001b[0;31m \u001b[0mgame\u001b[0m\u001b[0;34m.\u001b[0m\u001b[0mstart\u001b[0m\u001b[0;34m(\u001b[0m\u001b[0;34m)\u001b[0m\u001b[0;34m\u001b[0m\u001b[0;34m\u001b[0m\u001b[0m\n\u001b[0m",
            "\u001b[0;32m<ipython-input-72-88d551eb1a9c>\u001b[0m in \u001b[0;36mstart\u001b[0;34m(self)\u001b[0m\n\u001b[1;32m     21\u001b[0m             \u001b[0mself\u001b[0m\u001b[0;34m.\u001b[0m\u001b[0mrender\u001b[0m\u001b[0;34m(\u001b[0m\u001b[0;34m)\u001b[0m\u001b[0;34m\u001b[0m\u001b[0;34m\u001b[0m\u001b[0m\n\u001b[1;32m     22\u001b[0m             \u001b[0;31m# 行動を選択する\u001b[0m\u001b[0;34m\u001b[0m\u001b[0;34m\u001b[0m\u001b[0;34m\u001b[0m\u001b[0m\n\u001b[0;32m---> 23\u001b[0;31m             \u001b[0maction\u001b[0m \u001b[0;34m=\u001b[0m \u001b[0mself\u001b[0m\u001b[0;34m.\u001b[0m\u001b[0minput_action\u001b[0m\u001b[0;34m(\u001b[0m\u001b[0mself\u001b[0m\u001b[0;34m.\u001b[0m\u001b[0mplayer_pos\u001b[0m\u001b[0;34m)\u001b[0m\u001b[0;34m\u001b[0m\u001b[0;34m\u001b[0m\u001b[0m\n\u001b[0m\u001b[1;32m     24\u001b[0m             \u001b[0;31m# 行動する\u001b[0m\u001b[0;34m\u001b[0m\u001b[0;34m\u001b[0m\u001b[0;34m\u001b[0m\u001b[0m\n\u001b[1;32m     25\u001b[0m             \u001b[0mstate\u001b[0m\u001b[0;34m,\u001b[0m \u001b[0mreward\u001b[0m\u001b[0;34m,\u001b[0m \u001b[0mis_done\u001b[0m\u001b[0;34m,\u001b[0m \u001b[0minfo\u001b[0m \u001b[0;34m=\u001b[0m \u001b[0mself\u001b[0m\u001b[0;34m.\u001b[0m\u001b[0mstep\u001b[0m\u001b[0;34m(\u001b[0m\u001b[0maction\u001b[0m\u001b[0;34m)\u001b[0m\u001b[0;34m\u001b[0m\u001b[0;34m\u001b[0m\u001b[0m\n",
            "\u001b[0;32m<ipython-input-72-88d551eb1a9c>\u001b[0m in \u001b[0;36minput_action\u001b[0;34m(self, player_pos)\u001b[0m\n\u001b[1;32m    111\u001b[0m         \u001b[0;32mwhile\u001b[0m \u001b[0;32mnot\u001b[0m \u001b[0mis_actionable_input\u001b[0m\u001b[0;34m:\u001b[0m\u001b[0;34m\u001b[0m\u001b[0;34m\u001b[0m\u001b[0m\n\u001b[1;32m    112\u001b[0m \u001b[0;34m\u001b[0m\u001b[0m\n\u001b[0;32m--> 113\u001b[0;31m             action = input(\\\n\u001b[0m\u001b[1;32m    114\u001b[0m f\"\"\"\n\u001b[1;32m    115\u001b[0m \u001b[0m行動を入力してください\u001b[0m\u001b[0;34m\u001b[0m\u001b[0;34m\u001b[0m\u001b[0m\n",
            "\u001b[0;32m/usr/local/lib/python3.8/dist-packages/ipykernel/kernelbase.py\u001b[0m in \u001b[0;36mraw_input\u001b[0;34m(self, prompt)\u001b[0m\n\u001b[1;32m    858\u001b[0m                 \u001b[0;34m\"raw_input was called, but this frontend does not support input requests.\"\u001b[0m\u001b[0;34m\u001b[0m\u001b[0;34m\u001b[0m\u001b[0m\n\u001b[1;32m    859\u001b[0m             )\n\u001b[0;32m--> 860\u001b[0;31m         return self._input_request(str(prompt),\n\u001b[0m\u001b[1;32m    861\u001b[0m             \u001b[0mself\u001b[0m\u001b[0;34m.\u001b[0m\u001b[0m_parent_ident\u001b[0m\u001b[0;34m,\u001b[0m\u001b[0;34m\u001b[0m\u001b[0;34m\u001b[0m\u001b[0m\n\u001b[1;32m    862\u001b[0m             \u001b[0mself\u001b[0m\u001b[0;34m.\u001b[0m\u001b[0m_parent_header\u001b[0m\u001b[0;34m,\u001b[0m\u001b[0;34m\u001b[0m\u001b[0;34m\u001b[0m\u001b[0m\n",
            "\u001b[0;32m/usr/local/lib/python3.8/dist-packages/ipykernel/kernelbase.py\u001b[0m in \u001b[0;36m_input_request\u001b[0;34m(self, prompt, ident, parent, password)\u001b[0m\n\u001b[1;32m    902\u001b[0m             \u001b[0;32mexcept\u001b[0m \u001b[0mKeyboardInterrupt\u001b[0m\u001b[0;34m:\u001b[0m\u001b[0;34m\u001b[0m\u001b[0;34m\u001b[0m\u001b[0m\n\u001b[1;32m    903\u001b[0m                 \u001b[0;31m# re-raise KeyboardInterrupt, to truncate traceback\u001b[0m\u001b[0;34m\u001b[0m\u001b[0;34m\u001b[0m\u001b[0;34m\u001b[0m\u001b[0m\n\u001b[0;32m--> 904\u001b[0;31m                 \u001b[0;32mraise\u001b[0m \u001b[0mKeyboardInterrupt\u001b[0m\u001b[0;34m(\u001b[0m\u001b[0;34m\"Interrupted by user\"\u001b[0m\u001b[0;34m)\u001b[0m \u001b[0;32mfrom\u001b[0m \u001b[0;32mNone\u001b[0m\u001b[0;34m\u001b[0m\u001b[0;34m\u001b[0m\u001b[0m\n\u001b[0m\u001b[1;32m    905\u001b[0m             \u001b[0;32mexcept\u001b[0m \u001b[0mException\u001b[0m \u001b[0;32mas\u001b[0m \u001b[0me\u001b[0m\u001b[0;34m:\u001b[0m\u001b[0;34m\u001b[0m\u001b[0;34m\u001b[0m\u001b[0m\n\u001b[1;32m    906\u001b[0m                 \u001b[0mself\u001b[0m\u001b[0;34m.\u001b[0m\u001b[0mlog\u001b[0m\u001b[0;34m.\u001b[0m\u001b[0mwarning\u001b[0m\u001b[0;34m(\u001b[0m\u001b[0;34m\"Invalid Message:\"\u001b[0m\u001b[0;34m,\u001b[0m \u001b[0mexc_info\u001b[0m\u001b[0;34m=\u001b[0m\u001b[0;32mTrue\u001b[0m\u001b[0;34m)\u001b[0m\u001b[0;34m\u001b[0m\u001b[0;34m\u001b[0m\u001b[0m\n",
            "\u001b[0;31mKeyboardInterrupt\u001b[0m: Interrupted by user"
          ]
        }
      ]
    },
    {
      "cell_type": "markdown",
      "source": [
        "---下記テスト---"
      ],
      "metadata": {
        "id": "D5xcLj0AlTX-"
      }
    },
    {
      "cell_type": "code",
      "source": [
        "a = input(\"入力して\")\n",
        "print(a)\n",
        "print(type(a))"
      ],
      "metadata": {
        "colab": {
          "base_uri": "https://localhost:8080/"
        },
        "id": "MrSfcs6RN10l",
        "outputId": "6020420b-02e1-4c42-b152-7cdce2cfb028"
      },
      "execution_count": null,
      "outputs": [
        {
          "output_type": "stream",
          "name": "stdout",
          "text": [
            "入力して1\n",
            "1\n",
            "<class 'str'>\n"
          ]
        }
      ]
    },
    {
      "cell_type": "code",
      "source": [
        "a = [[1,2]]\n",
        "a[0][0] = 2\n",
        "print(a)"
      ],
      "metadata": {
        "colab": {
          "base_uri": "https://localhost:8080/"
        },
        "id": "W6lSmNHaMJCT",
        "outputId": "8e3d4100-d54b-48eb-b6fb-02157864d81f"
      },
      "execution_count": 66,
      "outputs": [
        {
          "output_type": "stream",
          "name": "stdout",
          "text": [
            "[[2, 2]]\n"
          ]
        }
      ]
    },
    {
      "cell_type": "code",
      "source": [
        "a = 2\n",
        "def test(b):\n",
        "    b += 1\n",
        "    print(\"b: \", b)\n",
        "test(a)\n",
        "print(\"a: \", a)"
      ],
      "metadata": {
        "colab": {
          "base_uri": "https://localhost:8080/"
        },
        "id": "Y7qe0OpOA7_p",
        "outputId": "316cb369-fbe6-4baa-c320-b8c23ac56d24"
      },
      "execution_count": 52,
      "outputs": [
        {
          "output_type": "stream",
          "name": "stdout",
          "text": [
            "b:  3\n",
            "a:  2\n"
          ]
        }
      ]
    },
    {
      "cell_type": "code",
      "source": [
        "import numpy as np\n",
        "\n",
        "a = np.zeros(shape=(2,3,1))\n",
        "b = np.zeros(shape=(2,3,1))\n",
        "print(a)\n",
        "# print(b)"
      ],
      "metadata": {
        "colab": {
          "base_uri": "https://localhost:8080/"
        },
        "id": "-H8CkoZQuWM7",
        "outputId": "d4e7d348-d11f-40ba-9247-bb628e766c3a"
      },
      "execution_count": 6,
      "outputs": [
        {
          "output_type": "stream",
          "name": "stdout",
          "text": [
            "[[[0.]\n",
            "  [0.]\n",
            "  [0.]]\n",
            "\n",
            " [[0.]\n",
            "  [0.]\n",
            "  [0.]]]\n"
          ]
        }
      ]
    },
    {
      "cell_type": "code",
      "source": [
        "x = \"1\"\n",
        "y = \"2\"\n",
        "rep = f\"{x}-{y}\"\n",
        "print(rep)"
      ],
      "metadata": {
        "colab": {
          "base_uri": "https://localhost:8080/"
        },
        "id": "IsjkVuZcP98y",
        "outputId": "16e04217-2dbc-4541-af17-f09f5010b4ca"
      },
      "execution_count": null,
      "outputs": [
        {
          "output_type": "stream",
          "name": "stdout",
          "text": [
            "1-2\n"
          ]
        }
      ]
    },
    {
      "cell_type": "code",
      "source": [
        "print('requesting...', end='', flush=True)\n",
        "print('au')\n",
        "\n"
      ],
      "metadata": {
        "colab": {
          "base_uri": "https://localhost:8080/"
        },
        "id": "6Iwkqd2Pwq9y",
        "outputId": "4c793636-3365-406e-8cf1-ea12144cc814"
      },
      "execution_count": 32,
      "outputs": [
        {
          "output_type": "stream",
          "name": "stdout",
          "text": [
            "requesting...au\n"
          ]
        }
      ]
    },
    {
      "cell_type": "code",
      "source": [
        "# python コンソール　上書き出力\n",
        "\n",
        "\n",
        "import sys, time\n",
        "for i in range(100):\n",
        "    sys.stdout.write(\"%d\" % i)\n",
        "    sys.stdout.flush()\n",
        "    time.sleep(0.1)"
      ],
      "metadata": {
        "colab": {
          "base_uri": "https://localhost:8080/",
          "height": 218
        },
        "id": "tESvw6TEyUkc",
        "outputId": "b1260674-efbc-496e-8acd-a497cead6c0a"
      },
      "execution_count": 34,
      "outputs": [
        {
          "output_type": "stream",
          "name": "stdout",
          "text": [
            "012345678910111213141516171819202122232425262728293031323334353637383940414243444546474849505152535455565758596061626364656667686970"
          ]
        },
        {
          "output_type": "error",
          "ename": "KeyboardInterrupt",
          "evalue": "ignored",
          "traceback": [
            "\u001b[0;31m---------------------------------------------------------------------------\u001b[0m",
            "\u001b[0;31mKeyboardInterrupt\u001b[0m                         Traceback (most recent call last)",
            "\u001b[0;32m<ipython-input-34-f1c419e24201>\u001b[0m in \u001b[0;36m<module>\u001b[0;34m\u001b[0m\n\u001b[1;32m      6\u001b[0m     \u001b[0msys\u001b[0m\u001b[0;34m.\u001b[0m\u001b[0mstdout\u001b[0m\u001b[0;34m.\u001b[0m\u001b[0mwrite\u001b[0m\u001b[0;34m(\u001b[0m\u001b[0;34m\"%d\"\u001b[0m \u001b[0;34m%\u001b[0m \u001b[0mi\u001b[0m\u001b[0;34m)\u001b[0m\u001b[0;34m\u001b[0m\u001b[0;34m\u001b[0m\u001b[0m\n\u001b[1;32m      7\u001b[0m     \u001b[0msys\u001b[0m\u001b[0;34m.\u001b[0m\u001b[0mstdout\u001b[0m\u001b[0;34m.\u001b[0m\u001b[0mflush\u001b[0m\u001b[0;34m(\u001b[0m\u001b[0;34m)\u001b[0m\u001b[0;34m\u001b[0m\u001b[0;34m\u001b[0m\u001b[0m\n\u001b[0;32m----> 8\u001b[0;31m     \u001b[0mtime\u001b[0m\u001b[0;34m.\u001b[0m\u001b[0msleep\u001b[0m\u001b[0;34m(\u001b[0m\u001b[0;36m0.1\u001b[0m\u001b[0;34m)\u001b[0m\u001b[0;34m\u001b[0m\u001b[0;34m\u001b[0m\u001b[0m\n\u001b[0m",
            "\u001b[0;31mKeyboardInterrupt\u001b[0m: "
          ]
        }
      ]
    },
    {
      "cell_type": "code",
      "source": [
        "\"\"\"\n",
        "\\r 先頭にカーソルを戻す\n",
        "end='' 文字出力の最後を改行ではなくする\n",
        "\n",
        "-> print出力が毎度リセットされたみたいになる\n",
        "\"\"\"\n",
        "print('aiu', end='')\n",
        "print('\\rkakiku')"
      ],
      "metadata": {
        "colab": {
          "base_uri": "https://localhost:8080/"
        },
        "id": "RJlDGHxM0S7U",
        "outputId": "8d8d2464-ba4f-43bb-a3fc-57332be0d753"
      },
      "execution_count": 36,
      "outputs": [
        {
          "output_type": "stream",
          "name": "stdout",
          "text": [
            "aiu\rkakiku\n"
          ]
        }
      ]
    },
    {
      "cell_type": "code",
      "source": [
        "import os\n",
        "import time\n",
        "print('aiu')\n",
        "print('kakiku')\n",
        "time.sleep(2)\n",
        "print(\"\\033[2J\")"
      ],
      "metadata": {
        "colab": {
          "base_uri": "https://localhost:8080/"
        },
        "id": "RwINvMqz1auf",
        "outputId": "ec71aa15-bbf4-4837-ce64-b82e9e3ab6f0"
      },
      "execution_count": 40,
      "outputs": [
        {
          "output_type": "stream",
          "name": "stdout",
          "text": [
            "aiu\n",
            "kakiku\n",
            "\u001b[2J\n"
          ]
        }
      ]
    },
    {
      "cell_type": "code",
      "source": [
        "print('aiu')\n",
        "print('cccc', end='')\n",
        "print('\\rkakiku')"
      ],
      "metadata": {
        "colab": {
          "base_uri": "https://localhost:8080/"
        },
        "id": "rJB0RTzk0zeA",
        "outputId": "cfd12f6d-6d9d-41ee-ad41-719941a66047"
      },
      "execution_count": 41,
      "outputs": [
        {
          "output_type": "stream",
          "name": "stdout",
          "text": [
            "aiu\n",
            "cccc\rkakiku\n"
          ]
        }
      ]
    },
    {
      "cell_type": "code",
      "source": [
        "# ターミナル出力の上書き\n",
        "import time\n",
        "\n",
        "for i in range(10):\n",
        "    print('\\rNo, %d' % i, end='')\n",
        "    time.sleep(0.5)"
      ],
      "metadata": {
        "colab": {
          "base_uri": "https://localhost:8080/"
        },
        "id": "ugywlcZ2ou9N",
        "outputId": "6c22992f-c9e3-4035-a758-e948186e7209"
      },
      "execution_count": 8,
      "outputs": [
        {
          "output_type": "stream",
          "name": "stdout",
          "text": [
            "No, 9"
          ]
        }
      ]
    },
    {
      "cell_type": "code",
      "source": [
        "import numpy as np\n",
        "result_V_all = np.zeros(shape=(5,5,3))\n",
        "result_V_all[1][0] = [1,1,1]\n",
        "print(result_V_all)"
      ],
      "metadata": {
        "id": "-Ajdmw9UxYlO",
        "colab": {
          "base_uri": "https://localhost:8080/"
        },
        "outputId": "1f045b89-2dbf-42f5-af99-d2ddda94f944"
      },
      "execution_count": null,
      "outputs": [
        {
          "output_type": "stream",
          "name": "stdout",
          "text": [
            "[[[0. 0. 0.]\n",
            "  [0. 0. 0.]\n",
            "  [0. 0. 0.]\n",
            "  [0. 0. 0.]\n",
            "  [0. 0. 0.]]\n",
            "\n",
            " [[1. 1. 1.]\n",
            "  [0. 0. 0.]\n",
            "  [0. 0. 0.]\n",
            "  [0. 0. 0.]\n",
            "  [0. 0. 0.]]\n",
            "\n",
            " [[0. 0. 0.]\n",
            "  [0. 0. 0.]\n",
            "  [0. 0. 0.]\n",
            "  [0. 0. 0.]\n",
            "  [0. 0. 0.]]\n",
            "\n",
            " [[0. 0. 0.]\n",
            "  [0. 0. 0.]\n",
            "  [0. 0. 0.]\n",
            "  [0. 0. 0.]\n",
            "  [0. 0. 0.]]\n",
            "\n",
            " [[0. 0. 0.]\n",
            "  [0. 0. 0.]\n",
            "  [0. 0. 0.]\n",
            "  [0. 0. 0.]\n",
            "  [0. 0. 0.]]]\n"
          ]
        }
      ]
    },
    {
      "cell_type": "markdown",
      "source": [],
      "metadata": {
        "id": "AmJEn19-xikM"
      }
    }
  ]
}
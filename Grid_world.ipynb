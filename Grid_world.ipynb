{
  "cells": [
    {
      "cell_type": "markdown",
      "metadata": {
        "id": "view-in-github",
        "colab_type": "text"
      },
      "source": [
        "<a href=\"https://colab.research.google.com/github/etomaro/RL/blob/main/Grid_world.ipynb\" target=\"_parent\"><img src=\"https://colab.research.google.com/assets/colab-badge.svg\" alt=\"Open In Colab\"/></a>"
      ]
    },
    {
      "cell_type": "markdown",
      "source": [
        "0   設定情報の確認\n",
        "\n",
        "1   メインクラス(game, V,Q探索)\n",
        "\n",
        "2.1 特定の状態の状態価値関数を求める\n",
        "\n",
        "2.2 すべての状態の状態価値関数を求める\n",
        "\n",
        "2.3 すべての状態価値をPLOT\n",
        "\n",
        "3.1 特定の状態の行動価値関数を求める\n",
        "\n",
        "3.2 すべての状態の行動価値関数を求める\n",
        "\n",
        "3.3 すべての行動価値をPLOT\n",
        "\n"
      ],
      "metadata": {
        "id": "UbcdgCL8OuWP"
      }
    },
    {
      "cell_type": "code",
      "source": [
        "\"\"\"\n",
        "0   設定情報の確認\n",
        "\"\"\"\n",
        "\n",
        "# 12時間ルールの残り時間の確認\n",
        "!cat /proc/uptime | awk '{printf(\"残り時間 : %.2f\", 12-$1/60/60)}'\n",
        "\n",
        "# 割り当てられた割り当てられたGPUの確認\n",
        "!nvidia-smi\n"
      ],
      "metadata": {
        "colab": {
          "base_uri": "https://localhost:8080/"
        },
        "id": "ncpfSXLyl-Qc",
        "outputId": "6a798e21-3695-44df-b75e-f8f1ecb2b44e"
      },
      "execution_count": 22,
      "outputs": [
        {
          "output_type": "stream",
          "name": "stdout",
          "text": [
            "残り時間 : 9.89Sat Feb 18 00:10:23 2023       \n",
            "+-----------------------------------------------------------------------------+\n",
            "| NVIDIA-SMI 510.47.03    Driver Version: 510.47.03    CUDA Version: 11.6     |\n",
            "|-------------------------------+----------------------+----------------------+\n",
            "| GPU  Name        Persistence-M| Bus-Id        Disp.A | Volatile Uncorr. ECC |\n",
            "| Fan  Temp  Perf  Pwr:Usage/Cap|         Memory-Usage | GPU-Util  Compute M. |\n",
            "|                               |                      |               MIG M. |\n",
            "|===============================+======================+======================|\n",
            "|   0  Tesla T4            Off  | 00000000:00:04.0 Off |                    0 |\n",
            "| N/A   73C    P0    31W /  70W |      0MiB / 15360MiB |      0%      Default |\n",
            "|                               |                      |                  N/A |\n",
            "+-------------------------------+----------------------+----------------------+\n",
            "                                                                               \n",
            "+-----------------------------------------------------------------------------+\n",
            "| Processes:                                                                  |\n",
            "|  GPU   GI   CI        PID   Type   Process name                  GPU Memory |\n",
            "|        ID   ID                                                   Usage      |\n",
            "|=============================================================================|\n",
            "|  No running processes found                                                 |\n",
            "+-----------------------------------------------------------------------------+\n"
          ]
        }
      ]
    },
    {
      "cell_type": "code",
      "execution_count": 14,
      "metadata": {
        "id": "I20X29f4AT0_"
      },
      "outputs": [],
      "source": [
        "\"\"\"\n",
        "1 メインクラス(game, V,Q探索)\n",
        "\"\"\"\n",
        "\n",
        "import numpy as np\n",
        "import matplotlib.pyplot as plt\n",
        "\n",
        "\n",
        "class Agent():\n",
        "\n",
        "    GAMMA = 0.9  # 割引率\n",
        "    ACTIONS = ['right', 'up', 'left', 'down']\n",
        "    # 移動の際に使う値\n",
        "    act_dict = {\n",
        "        'right': np.array([0,1]),\n",
        "        'up': np.array([-1,0]),\n",
        "        'left': np.array([0,-1]),\n",
        "        'down': np.array([1,0])\n",
        "    }\n",
        "    # 方策(固定)\n",
        "    pi_dict1 = {\n",
        "        'right': 0.25,\n",
        "        'up': 0.25,\n",
        "        'left': 0.25,\n",
        "        'down': 0.25\n",
        "    }\n",
        "    # 行動数\n",
        "    num_action = len(ACTIONS)  # 4\n",
        "\n",
        "    def __init__(self, array_or_list=np.array([0,0])):\n",
        "        # listもnp.arrayでもいい\n",
        "        if type(array_or_list) == list:\n",
        "            array = np.array(array_or_list)\n",
        "        else:\n",
        "            array = array_or_list\n",
        "\n",
        "        # 条件に当てはまらない場合エラーを返す\n",
        "        assert (array[0] >= 0 and array[0] < 5 and \\\n",
        "                array[1] >= 0 and array[1] < 5)\n",
        " \n",
        "        self.pos = array  # pos -> position\n",
        "\n",
        "\n",
        "    # 現在位置を返す\n",
        "    def get_pos(self):\n",
        "        return self.pos\n",
        "    \n",
        "    # 現在位置をセットする\n",
        "    def set_pos(self, array_or_list):\n",
        "        # listもnp.arrayでもいい\n",
        "        if type(array_or_list) == list:\n",
        "            array = np.array(array_or_list)\n",
        "        else:\n",
        "            array = array_or_list\n",
        "\n",
        "        # 条件に当てはまらない場合エラーを返す\n",
        "        assert (array[0] >= 0 and array[0] < 5 and \\\n",
        "                array[1] >= 0 and array[1] < 5)\n",
        " \n",
        "        self.pos = array  # pos -> position\n",
        "\n",
        "    # 現在位置から移動\n",
        "    def move(self, action):\n",
        "        \"\"\"\n",
        "        - A - B -\n",
        "        - - - - -\n",
        "        - - - b -\n",
        "        - - - - -\n",
        "        - a - - -\n",
        "        \"\"\"\n",
        "        # 移動量を取得\n",
        "        move_coord = self.act_dict[action].copy()\n",
        "    \n",
        "        # A地点\n",
        "        if (self.get_pos() == np.array([0,1])).all():\n",
        "            pos_new = [4,1]  # a地点\n",
        "        elif (self.get_pos() == np.array([0,3])).all():\n",
        "            pos_new = [2,3]  # b地点\n",
        "        else:\n",
        "            pos_new = self.get_pos() + move_coord \n",
        "        \n",
        "        # グリッドの外に出た場合の処理(出ないようにする)\n",
        "        pos_new[0] = np.clip(pos_new[0], 0, 4)  # 0未満なら0に。4より上なら4に\n",
        "        pos_new[1] = np.clip(pos_new[1], 0, 4)\n",
        "        self.set_pos(pos_new)\n",
        "\n",
        "    # 現在位置から移動することによる報酬。この関数では移動自体は行わない\n",
        "    def reward(self, state, action):\n",
        "        # A地点\n",
        "        if (state == np.array([0,1])).all():\n",
        "            r = 10\n",
        "            return r\n",
        "        # B地点\n",
        "        if (state == np.array([0,3])).all():\n",
        "            r = 5\n",
        "            return r\n",
        "        \n",
        "        # グリッドの外に行く場合は罰則\n",
        "        if state[0] == 0 and action == 'up':\n",
        "            r = -1\n",
        "        elif state[0] == 4 and action == 'down':\n",
        "            r = -1\n",
        "        elif state[1] == 0 and action == 'left':\n",
        "            r = -1\n",
        "        elif state[1] == 4 and action == 'right':\n",
        "            r = -1\n",
        "        else:\n",
        "            r = 0\n",
        "\n",
        "        return r\n",
        " \n",
        "    # 方策(π)\n",
        "    def pi(self, state, action):\n",
        "        # 変数にstateを持っているが、今回は方策はstateに依存しない\n",
        "        return self.pi_dict1[action]\n",
        "    \n",
        "    # 状態価値関数の算出\n",
        "    def V_pi(self, state, n, out, iter_num):\n",
        "        \"\"\"\n",
        "        state: 関数呼び出した時の状態\n",
        "        out: 戻り値用。関数実行時は0を指定。※この引数を消してresult=0としてやった場合変わるかどうかテストする。\n",
        "        n: 再帰関数の呼び出し回数が何回目か。最初の呼び出しは1\n",
        "        iter_num: 再帰関数を何回呼び出す予定か。\n",
        "        \"\"\"\n",
        "        self.set_pos(state)\n",
        "        \n",
        "        if n == iter_num:  # 末端状態\n",
        "            for action in self.ACTIONS:\n",
        "                out += self.pi(state, action) * self.reward(state, action)\n",
        "            return out\n",
        "        else:\n",
        "            for action in self.ACTIONS:\n",
        "                out += self.pi(state, action) * self.reward(state, action)\n",
        "                # 次の状態に遷移\n",
        "                self.move(action)\n",
        "\n",
        "                # 再帰\n",
        "                out += self.pi(self.get_pos(), action) * \\\n",
        "                       self.V_pi(self.get_pos(), n+1, 0, iter_num) * self.GAMMA\n",
        "\n",
        "                # stateを関数(または再帰関数)呼び出し時に戻す\n",
        "                self.set_pos(state)\n",
        "\n",
        "            return out\n",
        "\n",
        "    # 全てのstateでの状態価値関数を算出\n",
        "    def V_pi_all(self, n, out, iter_num):\n",
        "        \"\"\"\n",
        "        argのstateは全てのstateでの価値を算出するので必要ない\n",
        "        [[x=0の値], [x=1の値], ... [x=4の値]]\n",
        "\n",
        "        戻り値\n",
        "          V_pi_all[4][2][3] -> step数が4回目の(2,3)での状態価値\n",
        "        \"\"\"\n",
        "        grid_pos_array = np.array([\n",
        "            [0,0], [0,1], [0,2], [0,3], [0,4],\n",
        "            [1,0], [1,1], [1,2], [1,3], [1,4],\n",
        "            [2,0], [2,1], [2,2], [2,3], [2,4],\n",
        "            [3,0], [3,1], [3,2], [3,3], [3,4],\n",
        "            [4,0], [4,1], [4,2], [4,3], [4,4]\n",
        "        ])\n",
        "\n",
        "        # 戻り値を初期化\n",
        "        result_V_all = np.zeros(shape=(5,5))\n",
        "\n",
        "        # ループで5*5回Vを求めていく\n",
        "        for pos in grid_pos_array:\n",
        "            x = pos[0]\n",
        "            y = pos[1]\n",
        "\n",
        "            tmp_V = self.V_pi(\n",
        "                state=pos,\n",
        "                n=1,\n",
        "                out=0,\n",
        "                iter_num=iter_num\n",
        "            )\n",
        "            \n",
        "            # 結果を挿入\n",
        "            result_V_all[x][y] = tmp_V\n",
        "        \n",
        "        return result_V_all\n",
        "        \n",
        "\n",
        "    # 行動価値関数の算出\n",
        "    def Q_pi(self, state, action, n, out, iter_num):\n",
        "\n",
        "        if n==iter_num:\n",
        "            out += self.pi(state, action) * self.reward(state, action)\n",
        "            return out\n",
        "        else:\n",
        "            out += self.reward(state, action)\n",
        "            self.set_pos(state)  # これなぜか必要。結果が変わった\n",
        "            self.move(action)\n",
        "\n",
        "            state_before_recursion = self.get_pos()\n",
        "\n",
        "            # 再帰関数\n",
        "            for next_action in self.ACTIONS:\n",
        "                out += self.pi(state_before_recursion, next_action) * \\\n",
        "                       self.Q_pi(state_before_recursion, next_action, n+1, 0, iter_num) * self.GAMMA\n",
        "                self.set_pos(state)\n",
        "            return out\n",
        "    \n",
        "    def Q_pi_all(self, n, out, iter_num):\n",
        "        \"\"\"\n",
        "        [\n",
        "            [   # x=0の時\n",
        "                [rightの値, upの値, leftの値, downの値], [], [], [], [],\n",
        "            ],\n",
        "            .\n",
        "            .\n",
        "        ]\n",
        "        \"\"\"\n",
        "        grid_pos_array = np.array([\n",
        "            [0,0], [0,1], [0,2], [0,3], [0,4],\n",
        "            [1,0], [1,1], [1,2], [1,3], [1,4],\n",
        "            [2,0], [2,1], [2,2], [2,3], [2,4],\n",
        "            [3,0], [3,1], [3,2], [3,3], [3,4],\n",
        "            [4,0], [4,1], [4,2], [4,3], [4,4]\n",
        "        ])\n",
        "\n",
        "        # 戻り値を初期化\n",
        "        result_Q_all = np.zeros(shape=(5,5,4))\n",
        "\n",
        "        # ループで5*5回Vを求めていく\n",
        "        for pos in grid_pos_array:\n",
        "            x = pos[0]\n",
        "            y = pos[1]\n",
        "\n",
        "            # アクションごとにQ値を求める\n",
        "            tmp_Q_list = np.array([])\n",
        "            for action in self.ACTIONS:\n",
        "                tmp_Q = self.Q_pi(\n",
        "                    state=pos,\n",
        "                    action= action,\n",
        "                    n=1,\n",
        "                    out=0,\n",
        "                    iter_num=iter_num\n",
        "                )\n",
        "                tmp_Q_list = np.append(tmp_Q_list, tmp_Q)\n",
        "            # 結果を挿入\n",
        "            result_Q_all[x][y] = tmp_Q_list\n",
        "        \n",
        "        return result_Q_all\n",
        "\n",
        "# ------グラフ表示用関数------\n",
        "def V_value_plot(V):\n",
        "    \"\"\"\n",
        "    5*5のGRID WORLDに状態価値を表示\n",
        "    \"\"\"\n",
        "    ax = plt.gca()  # グラフの素を生成\n",
        "    plt.xlim(0,5)\n",
        "    plt.ylim(0,5)  # 0 - 5まで\n",
        "    ax.xaxis.set_ticklabels([])\n",
        "    ax.yaxis.set_ticklabels([])  # x,y軸の数値を消す(表示しない)\n",
        "    v_array_round = np.round(V, decimals=2)  # 少数第二位をまるめる\n",
        "    # x=j, y=i \n",
        "    for i in range(5):\n",
        "        for j in range(5):\n",
        "            # rect\n",
        "            rect = plt.Rectangle(xy=(i,j), width=1, height=1, fill=False)  # 四角形を生成。生成。xy:左下の座標。\n",
        "            ax.add_patch(rect)\n",
        "            # 座標のインデックスの調整\n",
        "            x, y = pltToGrid(i, j)   # plot用の座標からグリッド用の座標に変換\n",
        "    \n",
        "            # text \n",
        "            plt.text(i+0.4, j+0.5, v_array_round[int(x)][int(y)])  # 図の真ん中にテキストを表示させる\n",
        "\n",
        "def pltToGrid(x, y):\n",
        "    \"\"\"\n",
        "    plot用は左下から座標を決めている\n",
        "    GridWorldでは左上から座標を決めている\n",
        "    \"\"\"\n",
        "    pltToGrid = {\n",
        "        '0-4':'0-0', '1-4':'0-1', '2-4':'0-2', '3-4':'0-3', '4-4':'0-4',\n",
        "        '0-3':'1-0', '1-3':'1-1', '2-3':'1-2', '3-3':'1-3', '4-3':'1-4',\n",
        "        '0-2':'2-0', '1-2':'2-1', '2-2':'2-2', '3-2':'2-3', '4-2':'2-4',\n",
        "        '0-1':'3-0', '1-1':'3-1', '2-1':'3-2', '3-1':'3-3', '4-1':'3-4',\n",
        "        '0-0':'4-0', '1-0':'4-1', '2-0':'4-2', '3-0':'4-3', '4-0':'4-4'\n",
        "    }\n",
        "    input = str(x) + '-' + str(y)  #a 入力データを加工\n",
        "    output = pltToGrid[input]\n",
        "\n",
        "    # 置換\n",
        "    xy = output.split('-')\n",
        "    result_x, result_y = xy[0], xy[1]\n",
        "    \n",
        "    return result_x, result_y\n",
        "\n",
        "def Q_value_plot(Q):\n",
        "    \"\"\"\n",
        "    5*5*4のGRID WORLDに行動価値を表示(最適行動は赤文字)\n",
        "    \"\"\"\n",
        "    ax = plt.gca()  # グラフの素を生成\n",
        "    plt.xlim(0,5)\n",
        "    plt.ylim(0,5)  # 0 - 5まで\n",
        "    ax.xaxis.set_ticklabels([])\n",
        "    ax.yaxis.set_ticklabels([])  # x,y軸の数値を消す(表示しない)\n",
        "    q_array_round = np.round(Q, decimals=2)  # 少数第二位をまるめる\n",
        "\n",
        "    # x=j, y=i \n",
        "    for i in range(5):\n",
        "        for j in range(5):\n",
        "            # rect\n",
        "            rect = plt.Rectangle(xy=(i,j), width=1, height=1, fill=False)  # 四角形を生成。生成。xy:左下の座標。\n",
        "            ax.add_patch(rect)\n",
        "            # 座標のインデックスの調整\n",
        "            x, y = pltToGrid(i, j)   # plot用の座標からグリッド用の座標に変換\n",
        "\n",
        "            # バッテンを表示\n",
        "            diag = plt.Line2D(xdata=(i,i+1), ydata=(j,j+1),color='k',linewidth=.5)\n",
        "            ax.add_line(diag)\n",
        "            diag = plt.Line2D(xdata=(i,i+1), ydata=(j+1,j),color='k',linewidth=.5)\n",
        "            ax.add_line(diag)\n",
        "\n",
        "            # 値を表示\n",
        "            plt.text(i+ 0.65, j+0.45, q_array_round[int(x)][int(y)][0])\n",
        "            plt.text(i+ 0.4, j+0.8, q_array_round[int(x)][int(y)][1])\n",
        "            plt.text(i+ 0.025, j+0.45, q_array_round[int(x)][int(y)][2])\n",
        "            plt.text(i+ 0.4, j+0.1, q_array_round[int(x)][int(y)][3])\n",
        "    plt.show()\n",
        "\n",
        "\n"
      ]
    },
    {
      "cell_type": "code",
      "execution_count": 13,
      "metadata": {
        "colab": {
          "base_uri": "https://localhost:8080/",
          "height": 244
        },
        "id": "m6cOgHlzmaAr",
        "outputId": "2ce8cace-2943-454a-b1e9-c0214eadf07f"
      },
      "outputs": [
        {
          "output_type": "stream",
          "name": "stdout",
          "text": [
            "v00:  3.343586275213512\n"
          ]
        },
        {
          "output_type": "error",
          "ename": "NameError",
          "evalue": "ignored",
          "traceback": [
            "\u001b[0;31m---------------------------------------------------------------------------\u001b[0m",
            "\u001b[0;31mNameError\u001b[0m                                 Traceback (most recent call last)",
            "\u001b[0;32m<ipython-input-13-29e00bc32883>\u001b[0m in \u001b[0;36m<module>\u001b[0;34m\u001b[0m\n\u001b[1;32m     35\u001b[0m \u001b[0;34m\u001b[0m\u001b[0m\n\u001b[1;32m     36\u001b[0m \u001b[0mprint\u001b[0m\u001b[0;34m(\u001b[0m\u001b[0;34m\"v00: \"\u001b[0m\u001b[0;34m,\u001b[0m \u001b[0mv00\u001b[0m\u001b[0;34m)\u001b[0m\u001b[0;34m\u001b[0m\u001b[0;34m\u001b[0m\u001b[0m\n\u001b[0;32m---> 37\u001b[0;31m \u001b[0mprint\u001b[0m\u001b[0;34m(\u001b[0m\u001b[0;34m\"v_list:\"\u001b[0m\u001b[0;34m,\u001b[0m \u001b[0mv_list\u001b[0m\u001b[0;34m)\u001b[0m\u001b[0;34m\u001b[0m\u001b[0;34m\u001b[0m\u001b[0m\n\u001b[0m\u001b[1;32m     38\u001b[0m \u001b[0mprint\u001b[0m\u001b[0;34m(\u001b[0m\u001b[0;34m\"計測時間: \"\u001b[0m\u001b[0;34m,\u001b[0m \u001b[0mtime_result\u001b[0m\u001b[0;34m)\u001b[0m\u001b[0;34m\u001b[0m\u001b[0;34m\u001b[0m\u001b[0m\n",
            "\u001b[0;31mNameError\u001b[0m: name 'v_list' is not defined"
          ]
        }
      ],
      "source": [
        "\n",
        "\"\"\"\n",
        "2.1 特定の状態の状態価値関数を求める\n",
        "\n",
        "iter=10の時の時\n",
        "10回行動した時まで考える。\n",
        "考慮する状態のパターンは4**10(104万8576)\n",
        "再帰関数を呼ぶ(実行する)回数は回数は9回。関数自体は10回。\n",
        "\n",
        "計算結果\n",
        "iter_num:11 ->       3.34\n",
        "                (0,1)8.87\n",
        "                (4,4)-1.87\n",
        "計算速度の結果\n",
        "iter_num: 2 -> 0.0008s\n",
        "iter_num: 5 -> 0.17s  \n",
        "iter_num:10 -> 37s\n",
        "iter_num:11 -> 163s\n",
        "\"\"\"\n",
        "\n",
        "\n",
        "import time \n",
        "\n",
        "\n",
        "agent = Agent()\n",
        "\n",
        "start = time.time()  # 計測開始\n",
        "v00 = agent.V_pi(\n",
        "    state=np.array([0,0]),  # (0,0)地点での状態価値関数の算出\n",
        "    n=1,\n",
        "    out=0,\n",
        "    iter_num=11\n",
        ")\n",
        "time_result = time.time() - start  # 計測終了\n",
        "\n",
        "print(\"v00: \", v00)\n",
        "print(\"計測時間: \", time_result)"
      ]
    },
    {
      "cell_type": "code",
      "execution_count": 6,
      "metadata": {
        "colab": {
          "base_uri": "https://localhost:8080/",
          "height": 343
        },
        "id": "_vDVdx2auRwx",
        "outputId": "42a8c2fa-6252-4b98-864a-b1bf91454311"
      },
      "outputs": [
        {
          "output_type": "stream",
          "name": "stdout",
          "text": [
            "[[ 3.33832439  8.9072904   4.4381291   5.30100667  1.38491751]\n",
            " [ 1.49866649  3.00064994  2.21804135  1.84992266  0.45645284]\n",
            " [ 0.03421955  0.7215252   0.6720092   0.33279551 -0.42711549]\n",
            " [-0.94101406 -0.38258473 -0.31018898 -0.51712397 -1.11986174]\n",
            " [-1.76685177 -1.25011029 -1.11464591 -1.30133226 -1.84070463]]\n"
          ]
        },
        {
          "output_type": "display_data",
          "data": {
            "text/plain": [
              "<Figure size 432x288 with 1 Axes>"
            ],
            "image/png": "[encoded data removed]"
          },
          "metadata": {
            "needs_background": "light"
          }
        }
      ],
      "source": [
        "\"\"\"\n",
        "2.2 すべての状態の状態価値関数を求める\n",
        "\n",
        "値を再計算する場合は「V_all_〇〇.npy」ファイルを削除する必要あり\n",
        "処理時間\n",
        "iter_num:10 -> 17:03(1038s)\n",
        "\"\"\"\n",
        "import time\n",
        "import os\n",
        "\n",
        "agent = Agent()\n",
        "\n",
        "# 計算するステップ数\n",
        "iter_num = 10\n",
        "\n",
        "_filepath = f'./V_all_{str(iter_num)}.npy'\n",
        "is_file = os.path.isfile(_filepath)\n",
        "if is_file:\n",
        "    load_V = np.load(_filepath)\n",
        "    print(load_V)\n",
        "    \n",
        "    # plot\n",
        "    V_value_plot(load_V)\n",
        "else:\n",
        "    start = time.time()\n",
        "    # 算出\n",
        "    V_all = agent.V_pi_all(\n",
        "        n=1, out=0, iter_num=iter_num\n",
        "    )\n",
        "    print('処理時間: ', time.time()-start, '\\n')\n",
        "\n",
        "    # ファイル作成\n",
        "    np.save(_filepath, V_all)\n",
        "    print('fileを作成しました')\n",
        "    \n",
        "    # 出力\n",
        "    print(\"V_all\\n\", V_all)\n"
      ]
    },
    {
      "cell_type": "code",
      "source": [
        "\"\"\"\n",
        "2.3 すべての状態価値をPLOT\n",
        "\"\"\"\n",
        "\n",
        "iter_num = 10\n",
        "\n",
        "_filepath = f'./V_all_{str(iter_num)}.npy'\n",
        "is_file = os.path.isfile(_filepath)\n",
        "if is_file:\n",
        "    load_V = np.load(_filepath)\n",
        "    \n",
        "    # plot\n",
        "    V_value_plot(load_V)"
      ],
      "metadata": {
        "colab": {
          "base_uri": "https://localhost:8080/",
          "height": 252
        },
        "id": "S85m1awjjE5Q",
        "outputId": "2bcd34f1-9fc0-48c3-94d5-5a4416be8295"
      },
      "execution_count": 7,
      "outputs": [
        {
          "output_type": "display_data",
          "data": {
            "text/plain": [
              "<Figure size 432x288 with 1 Axes>"
            ],
            "image/png": "[encoded data removed]"
          },
          "metadata": {
            "needs_background": "light"
          }
        }
      ]
    },
    {
      "cell_type": "code",
      "execution_count": null,
      "metadata": {
        "colab": {
          "base_uri": "https://localhost:8080/"
        },
        "id": "Li3gHLJA1BxB",
        "outputId": "601c87d0-cb1d-468b-db80-e0705f34bdcc"
      },
      "outputs": [
        {
          "name": "stdout",
          "output_type": "stream",
          "text": [
            "q00 [8.129917148312988, 1.938732374972039, 1.938732374972039, 1.2242078128629685]\n",
            "計測時間:  11.417083501815796\n"
          ]
        }
      ],
      "source": [
        "\"\"\"\n",
        "3.1 特定の状態の行動価値関数を求める\n",
        "\n",
        "結果\n",
        "  iter_num: 9 -> [8.641357421875, 3.187145233154297, 3.187145233154297, 2.095439910888672]\n",
        "  iter_num:10 -> [8.52474594116211, 3.2777719497680664, 3.2777719497680664, 2.2374868392944336]\n",
        "  iter_num:11 -> [8.401861190795898, 3.329444169998169, 3.329444169998169, 2.359862804412842]\n",
        "処理時間\n",
        "  iter_num: 9 -> 12\n",
        "  iter_num:10 -> 50s\n",
        "  iter_num:11 -> 178s\n",
        "\"\"\"\n",
        "\n",
        "import time\n",
        "\n",
        "agent = Agent()\n",
        "start = time.time()\n",
        "\n",
        "q00 = []\n",
        "actions = ['right', 'up', 'left', 'down']\n",
        "for i, action in enumerate(actions):\n",
        "    q00_tmp = agent.Q_pi(\n",
        "        state=np.array([0,0]),  # (0,0)での行動価値\n",
        "        action=action,\n",
        "        n=1,\n",
        "        out=0,\n",
        "        iter_num=9\n",
        "    )\n",
        "    q00.append(q00_tmp)\n",
        "time_result = time.time() - start\n",
        "\n",
        "print(\"q00\", q00)\n",
        "print(\"計測時間: \", time_result)"
      ]
    },
    {
      "cell_type": "code",
      "execution_count": 6,
      "metadata": {
        "colab": {
          "base_uri": "https://localhost:8080/"
        },
        "id": "eI7v1ApLw9pV",
        "outputId": "ec8b4838-1e05-42ec-b8b4-69535d4eb7e4"
      },
      "outputs": [
        {
          "output_type": "stream",
          "name": "stdout",
          "text": [
            "[[[ 8.08123982  1.97710769  1.97710769  1.28384826]\n",
            "  [ 8.92698701  8.92698701  8.92698701  8.92698701]\n",
            "  [ 4.73698927  2.98259166  8.08123982  1.94830497]\n",
            "  [ 5.26907756  5.26907756  5.26907756  5.26907756]\n",
            "  [ 0.17374574  0.17374574  4.73698927  0.34612865]]\n",
            "\n",
            " [[ 2.67174965  2.97710769  0.28384826 -0.01899635]\n",
            "  [ 1.94830497  8.08123982  1.28384826  0.609671  ]\n",
            "  [ 1.61093887  3.98259166  2.67174965  0.57419131]\n",
            "  [ 0.34612865  4.73698927  1.94830497  0.26907756]\n",
            "  [-0.65387135  1.17374574  1.61093887 -0.4088142 ]]\n",
            "\n",
            " [[ 0.609671    1.28384826 -1.01899635 -0.84318615]\n",
            "  [ 0.57419131  2.67174965 -0.01899635 -0.33388406]\n",
            "  [ 0.26907756  1.94830497  0.609671   -0.26514814]\n",
            "  [-0.4088142   1.61093887  0.57419131 -0.44016489]\n",
            "  [-1.4088142   0.34612865  0.26907756 -0.97595222]]\n",
            "\n",
            " [[-0.33388406 -0.01899635 -1.84318615 -1.53904886]\n",
            "  [-0.26514814  0.609671   -0.84318615 -1.07301299]\n",
            "  [-0.44016489  0.57419131 -0.33388406 -0.9465297 ]\n",
            "  [-0.97595222  0.26907756 -0.26514814 -1.10585696]\n",
            "  [-1.97595222 -0.4088142  -0.44016489 -1.58292731]]\n",
            "\n",
            " [[-1.07301299 -0.84318615 -2.53904886 -2.53904886]\n",
            "  [-0.9465297  -0.33388406 -1.53904886 -2.07301299]\n",
            "  [-1.10585696 -0.26514814 -1.07301299 -1.9465297 ]\n",
            "  [-1.58292731 -0.44016489 -0.9465297  -2.10585696]\n",
            "  [-2.58292731 -0.97595222 -1.10585696 -2.58292731]]]\n"
          ]
        }
      ],
      "source": [
        "\"\"\"\n",
        "3.2 すべての状態の行動価値関数を求める\n",
        "\n",
        "値を再計算する場合は「Q_all_〇〇.npy」ファイルを削除する必要あり\n",
        "処理時間\n",
        "# iter_num:10 -> 17:03(1038s)\n",
        "\"\"\"\n",
        "\n",
        "import time\n",
        "import os\n",
        "\n",
        "agent = Agent()\n",
        "\n",
        "# 計算するステップ数\n",
        "iter_num = 10\n",
        "\n",
        "_filepath = f'./Q_all_{str(iter_num)}.npy'\n",
        "is_file = os.path.isfile(_filepath)\n",
        "if is_file:\n",
        "    load_Q = np.load(_filepath)\n",
        "    print(load_Q)\n",
        "    \n",
        "    # plot\n",
        "    # agent.V_value_plot(load_V)\n",
        "else:\n",
        "    start = time.time()\n",
        "    # 算出\n",
        "    Q_all = agent.Q_pi_all(\n",
        "        n=1, out=0, iter_num=iter_num\n",
        "    )\n",
        "    print('処理時間: ', time.time()-start, '\\n')\n",
        "\n",
        "    # ファイル作成\n",
        "    np.save(_filepath, Q_all)\n",
        "    print('fileを作成しました')\n",
        "    \n",
        "    # 出力\n",
        "    print(\"Q_all\\n\", Q_all)\n"
      ]
    },
    {
      "cell_type": "code",
      "source": [
        "\"\"\"\n",
        "3.3 すべての行動価値をPLOT\n",
        "\"\"\"\n",
        "import os\n",
        "iter_num = 10\n",
        "\n",
        "_filepath = f'./Q_all_{str(iter_num)}.npy'\n",
        "is_file = os.path.isfile(_filepath)\n",
        "if is_file:\n",
        "    load_Q = np.load(_filepath)\n",
        "    \n",
        "    # plot\n",
        "    Q_value_plot(load_Q)"
      ],
      "metadata": {
        "id": "GFevORo-kNKi",
        "colab": {
          "base_uri": "https://localhost:8080/",
          "height": 252
        },
        "outputId": "dba5c99b-6433-4911-94ff-2a562e1bfee2"
      },
      "execution_count": 15,
      "outputs": [
        {
          "output_type": "display_data",
          "data": {
            "text/plain": [
              "<Figure size 432x288 with 1 Axes>"
            ],
            "image/png": "[encoded data removed]"
          },
          "metadata": {
            "needs_background": "light"
          }
        }
      ]
    },
    {
      "cell_type": "markdown",
      "source": [
        "---下記 テスト---"
      ],
      "metadata": {
        "id": "wOWsnkO2kcqR"
      }
    },
    {
      "cell_type": "code",
      "execution_count": null,
      "metadata": {
        "colab": {
          "base_uri": "https://localhost:8080/"
        },
        "id": "AuPAb-kPF8aw",
        "outputId": "68e9d5fb-275d-4e97-ddd6-0b7a65bcdd56"
      },
      "outputs": [
        {
          "name": "stdout",
          "output_type": "stream",
          "text": [
            "1 get_pos()のテストのテスト\n",
            "now_pos:  [0 0] \n",
            "\n",
            "2 set_pos()のテスト\n",
            "now_pos:  [3 3] \n",
            "\n",
            "3.1 move()のテスト\n",
            "now_pos:  [2 3] \n",
            "\n",
            "3.2 move()のテスト\n",
            "now_pos:  [4 4] \n",
            "\n",
            "4.1 A地点からアクションした際の報酬と次の状態\n",
            "reward:  10 \n",
            "now_pos:  [4 1] \n",
            "\n",
            "4.2 B地点からアクションした際の報酬と次の状態\n",
            "reward:  5 \n",
            "now_pos:  [2 3] \n",
            "\n",
            "4.3 (4,4)からrightした時の報酬報酬\n",
            "reward:  -1 \n",
            "now_pos:  [4 4] \n",
            "\n"
          ]
        }
      ],
      "source": [
        "# テスト\n",
        "# ------Agent------\n",
        "agent = Agent(np.array([0,0]))\n",
        "\n",
        "# 1 get_pos()のテスト\n",
        "now_pos = agent.get_pos()\n",
        "print(\"1 get_pos()のテストのテスト\\nnow_pos: \", now_pos, \"\\n\")\n",
        "\n",
        "# 2 set_pos()のテスト\n",
        "agent.set_pos(np.array([3,3]))\n",
        "print(\"2 set_pos()のテスト\\nnow_pos: \", agent.get_pos(), \"\\n\")\n",
        "\n",
        "# 3.1 move()のテスト (3,3) -> (2,3)\n",
        "agent.move(\"up\")\n",
        "print(\"3.1 move()のテスト\\nnow_pos: \", agent.get_pos(), \"\\n\")\n",
        "\n",
        "# 3.2 move()のテスト (4,4) -> right -> (4,4)\n",
        "agent.set_pos(np.array([4,4]))\n",
        "agent.move(\"right\")\n",
        "print(\"3.2 move()のテスト\\nnow_pos: \", agent.get_pos(), \"\\n\")\n",
        "\n",
        "# 4.1 A地点からアクションした際の報酬と次の状態\n",
        "agent.set_pos(np.array([0,1]))\n",
        "reward = agent.reward(agent.get_pos(), \"up\")\n",
        "agent.move(\"up\")\n",
        "print(\"4.1 A地点からアクションした際の報酬と次の状態\\nreward: \", reward, \"\\nnow_pos: \", agent.get_pos(), \"\\n\")\n",
        "\n",
        "# 4.2 B地点からアクションした際の報酬と次の状態\n",
        "agent.set_pos(np.array([0,3]))\n",
        "reward = agent.reward(agent.get_pos(), \"right\")\n",
        "agent.move(\"right\")\n",
        "print(\"4.2 B地点からアクションした際の報酬と次の状態\\nreward: \", reward, \"\\nnow_pos: \", agent.get_pos(), \"\\n\")\n",
        "\n",
        "# 4.3 (4,4)からrightした時の報酬\n",
        "agent.set_pos(np.array([4,4]))\n",
        "reward = agent.reward(agent.get_pos(), \"right\")\n",
        "agent.move(\"right\")\n",
        "print(\"4.3 (4,4)からrightした時の報酬報酬\\nreward: \", reward, \"\\nnow_pos: \", agent.get_pos(), \"\\n\")\n",
        "\n",
        "\n"
      ]
    },
    {
      "cell_type": "code",
      "execution_count": null,
      "metadata": {
        "colab": {
          "base_uri": "https://localhost:8080/"
        },
        "id": "WxrQHdxDvj9p",
        "outputId": "fa3e05f7-83bc-4934-e701-68a78395089f"
      },
      "outputs": [
        {
          "name": "stdout",
          "output_type": "stream",
          "text": [
            "fileを作成しました\n",
            "\n",
            "1 aiu\n",
            "2 eo\n",
            "3 kakiku\n",
            "4 keko\n",
            "\n",
            "<class 'numpy.ndarray'>\n",
            "既にnpファイルは存在しています\n",
            "[1 2 3 4 5]\n",
            "<class 'numpy.ndarray'>\n"
          ]
        }
      ],
      "source": [
        "# fileの作成のテスト\n",
        "import os\n",
        "import numpy as np\n",
        "\n",
        "\n",
        "# ------通常ファイル------\n",
        "# fileの作成\n",
        "_filepath = './test.txt'\n",
        "filecontents = \"\"\"\n",
        "1 aiu\n",
        "2 eo\n",
        "3 kakiku\n",
        "4 keko\n",
        "\"\"\"\n",
        "\n",
        "# 書き込み\n",
        "# fileが存在しない場合のみ実行する。これがないと同じファイル名で毎度上書きされる\n",
        "is_file = os.path.isfile(_filepath)\n",
        "if is_file:\n",
        "    print('同じ名前のfileが既に存在します')\n",
        "else:\n",
        "    with open(_filepath, 'w') as f:\n",
        "        f.write(filecontents)\n",
        "    print('fileを作成しました')\n",
        "\n",
        "# ファイルの読み込み\n",
        "with open(_filepath, 'r') as f:\n",
        "    print(f.read())\n",
        "\n",
        "\n",
        "# ------numpyファイル------\n",
        "# numpy.arrayのタイプを確認 -> numpy.ndarray\n",
        "num_type = np.array([1,2,3])\n",
        "print(type(num_type))\n",
        "\n",
        "# file(numpy.array)の作成\n",
        "_filepath_num = 'test.npy'\n",
        "filecontents_num = np.array([1,2,3,4,5])\n",
        "\n",
        "# 書き込み\n",
        "is_file_num = os.path.isfile(_filepath_num)\n",
        "if is_file_num:\n",
        "    print('既にnpファイルは存在しています')\n",
        "else:\n",
        "    np.save(_filepath_num, filecontents_num)\n",
        "    print('npファイルを作成しました')\n",
        "\n",
        "# 読み込み\n",
        "load_num = np.load(_filepath_num)\n",
        "print(load_num)\n",
        "print(type(load_num))\n",
        "\n",
        "\n",
        "\n"
      ]
    },
    {
      "cell_type": "code",
      "execution_count": null,
      "metadata": {
        "colab": {
          "base_uri": "https://localhost:8080/"
        },
        "id": "4khR39FVx2pz",
        "outputId": "f57fe1f5-ff05-4f27-c3b0-40dfade9bfe9"
      },
      "outputs": [
        {
          "name": "stdout",
          "output_type": "stream",
          "text": [
            "array:  [1 2 3] \n",
            " arrayのタイプ:  <class 'numpy.ndarray'> \n",
            "\n",
            "array_multi:  [[1 2 3]\n",
            " [4 5 6]\n",
            " [7 8 9]] \n",
            " array_multiのタイプ <class 'numpy.ndarray'> \n",
            "\n",
            "array_multi[0]のタイプ:  <class 'numpy.ndarray'> \n",
            "\n",
            "array:  [1 2] \n",
            " array_new:  [1 2 3] \n",
            "\n",
            "array_multi:  [[1 2]\n",
            " [3 4]] \n",
            " array_multi_new [1 2 3 4 5 6] \n",
            "\n",
            "array_multi2:  [[1 2]\n",
            " [3 4]] \n",
            " array_multi2_new:  [[1 2]\n",
            " [3 4]\n",
            " [5 6]] \n",
            "\n",
            "array_multi2_new[0]のタイプ:  <class 'numpy.ndarray'> \n",
            " array_muulti2_new[2]のタイプ <class 'numpy.ndarray'> \n",
            "\n",
            "------list->numpyのテスト------\n",
            "list1: [1, 2, 3] \n",
            " array1:  [1 2 3]\n",
            "list1のタイプ:  <class 'list'> \n",
            " array1のタイプ:  <class 'numpy.ndarray'> \n",
            "\n",
            "list2: [[1, 2], [3, 4]] \n",
            " array2:  [[1 2]\n",
            " [3 4]]\n",
            "list2のタイプ:  <class 'list'> \n",
            " array2のタイプ:  <class 'numpy.ndarray'>\n"
          ]
        }
      ],
      "source": [
        "# numpyテスト\n",
        "import numpy as np \n",
        "\n",
        "# 型のテスト\n",
        "array = np.array([1,2,3])\n",
        "print('array: ', array, '\\n', 'arrayのタイプ: ', type(array), '\\n')\n",
        "\n",
        "array_multi = np.array([[1,2,3], [4,5,6], [7,8,9]])\n",
        "print('array_multi: ', array_multi, '\\n', 'array_multiのタイプ', type(array_multi), '\\n')\n",
        "print('array_multi[0]のタイプ: ', type(array_multi[0]), '\\n')\n",
        "\n",
        "# 追加\n",
        "array = np.array([1,2])\n",
        "array_new = np.append(array, 3)\n",
        "print('array: ', array, '\\n', 'array_new: ', array_new, '\\n')\n",
        "\n",
        "array_multi = np.array([[1,2], [3,4]])\n",
        "array_multi_new = np.append(array_multi, [5,6])\n",
        "print('array_multi: ', array_multi, '\\n', 'array_multi_new', array_multi_new, '\\n')\n",
        "\n",
        "# 2次元配列の追加(axis=0, 追加先と追加する次元が一致する必要あり, 追加する値はnp.array()する必要なくリストでいい)\n",
        "array_multi2 = np.array([[1,2], [3,4]])\n",
        "array_multi2_new = np.append(array_multi2, [[5,6]], axis=0)\n",
        "print('array_multi2: ', array_multi2, \"\\n\", 'array_multi2_new: ', array_multi2_new, '\\n')\n",
        "print('array_multi2_new[0]のタイプ: ', type(array_multi2_new[0]), '\\n', 'array_muulti2_new[2]のタイプ', type(array_multi2_new[2]), '\\n')\n",
        "\n",
        "# list->numpy\n",
        "list1 = [1,2,3]\n",
        "array1 = np.array(list1)\n",
        "print(\"------list->numpyのテスト------\")\n",
        "print('list1:', list1, '\\n', 'array1: ', array1)\n",
        "print('list1のタイプ: ', type(list1), '\\n', 'array1のタイプ: ', type(array1), '\\n')\n",
        "\n",
        "list2 = [[1,2], [3,4]]\n",
        "array2 = np.array(list2)\n",
        "print('list2:', list2, '\\n', 'array2: ', array2)\n",
        "print('list2のタイプ: ', type(list2), '\\n', 'array2のタイプ: ', type(array2))"
      ]
    },
    {
      "cell_type": "code",
      "execution_count": null,
      "metadata": {
        "colab": {
          "base_uri": "https://localhost:8080/"
        },
        "id": "788CWWBBEkJj",
        "outputId": "ba1f42d2-919b-41da-fea6-4cd1771a65ac"
      },
      "outputs": [
        {
          "name": "stdout",
          "output_type": "stream",
          "text": [
            "[[0. 0. 0. 0. 0.]\n",
            " [0. 0. 0. 0. 0.]\n",
            " [0. 0. 0. 0. 0.]\n",
            " [0. 0. 0. 0. 0.]\n",
            " [0. 0. 0. 0. 0.]]\n",
            "[[0. 0. 0. 0. 0.]\n",
            " [0. 0. 0. 0. 0.]\n",
            " [0. 0. 0. 1. 0.]\n",
            " [0. 0. 0. 0. 0.]\n",
            " [0. 0. 0. 0. 0.]]\n",
            "[1 2]\n",
            "[3 4]\n",
            "[5 6]\n"
          ]
        }
      ],
      "source": [
        "import numpy as np\n",
        "\n",
        "result = np.zeros(shape=(5,5))\n",
        "print(result)\n",
        "result[2][3] = 1\n",
        "print(result)\n",
        "\n",
        "a = np.array([[1,2], [3,4], [5,6]])\n",
        "for i in a:\n",
        "    print(i)"
      ]
    },
    {
      "cell_type": "code",
      "execution_count": null,
      "metadata": {
        "colab": {
          "base_uri": "https://localhost:8080/"
        },
        "id": "4WErvgYnHPlT",
        "outputId": "150e08fe-859e-40ce-eda4-c00d65c29307"
      },
      "outputs": [
        {
          "name": "stdout",
          "output_type": "stream",
          "text": [
            "kakikuke44ko\n"
          ]
        }
      ],
      "source": [
        "ai = 44\n",
        "print(f'kakikuke{str(ai)}ko')"
      ]
    },
    {
      "cell_type": "code",
      "execution_count": null,
      "metadata": {
        "colab": {
          "base_uri": "https://localhost:8080/"
        },
        "id": "ZdwuhIJtWdCg",
        "outputId": "db8868a6-9045-4aea-c01a-c1f039795949"
      },
      "outputs": [
        {
          "name": "stdout",
          "output_type": "stream",
          "text": [
            "クラスメソッドが呼ばれました\n",
            "None\n",
            "エラーが発生しました\n"
          ]
        }
      ],
      "source": [
        "# クラスメソッド\n",
        "class A():\n",
        "    def a():\n",
        "        print('クラスメソッドが呼ばれました')\n",
        "\n",
        "print(A.a())\n",
        "try:\n",
        "    a = A()\n",
        "    print(a.a())\n",
        "except Exception:\n",
        "    print('エラーが発生しました')"
      ]
    },
    {
      "cell_type": "code",
      "execution_count": null,
      "metadata": {
        "colab": {
          "base_uri": "https://localhost:8080/",
          "height": 319
        },
        "id": "LJ3SQzcxIT-i",
        "outputId": "14b17c12-a172-465c-d7a5-eeb8ec01b4a1"
      },
      "outputs": [
        {
          "name": "stdout",
          "output_type": "stream",
          "text": [
            "matplotlib基本的な使い方\n"
          ]
        },
        {
          "data": {
            "image/png": "[encoded data removed]",
            "text/plain": [
              "<Figure size 432x288 with 1 Axes>"
            ]
          },
          "metadata": {},
          "output_type": "display_data"
        },
        {
          "name": "stdout",
          "output_type": "stream",
          "text": [
            "np.roundのテスト\n",
            "[0. 0. 0. 1. 1. 2. 2. 2. 2. 3.]\n"
          ]
        }
      ],
      "source": [
        "# matplotlibのテスト\n",
        "import matplotlib.pyplot as plt\n",
        "import numpy as np\n",
        "\n",
        "\n",
        "# ------matplotlib基本的な使い方------\n",
        "print('matplotlib基本的な使い方')\n",
        "x = np.linspace(0, 10, 100)  # 0-10までの数字を100分割する(xに使う(not f(x)))\n",
        "y = x  # y=x\n",
        "plt.plot(x, y)\n",
        "plt.show()\n",
        "# ----------------------------------\n",
        "\n",
        "# plt.gca() -> 現在のplt情報を取得\n",
        "\n",
        "# plt.xlim, ylim  -> x,yの表示範囲\n",
        "\n",
        "# set_ticklabels([])  ->  x軸, y軸のいらないところを消す\n",
        "\n",
        "# np.round(x,decimals=2) -> # xの値を少数第2位までにする(少数第3位で偶数丸めする)\n",
        "\"\"\"\n",
        "偶数丸めとは\n",
        " 端数<5  切り捨て\n",
        " 端数=5  結果が偶数になる方にする\n",
        " 端数>5  切り上げ\n",
        "\n",
        "四捨五入の際に5を切り上げしてしまうと、切り上げの割合が多くなり結果の値が大きくなる傾向があるため\n",
        "偶数丸めが使用される\n",
        "\"\"\"\n",
        "print('np.roundのテスト')\n",
        "a = [0.1,0.4,0.5,0.6,1.4,1.5,1.6,2.4,2.5,2.6]\n",
        "b = np.round(a, decimals=0)\n",
        "print(b)\n",
        "\n",
        "# plt.Rectangleとadd_patch() -> 四角形の図形を生成する。add_patch()でRectanbleで生成した図型を反映する\n",
        "\n",
        "# plt.text  ->  グラフ内にテキストを表示する"
      ]
    },
    {
      "cell_type": "code",
      "execution_count": null,
      "metadata": {
        "colab": {
          "base_uri": "https://localhost:8080/",
          "height": 287
        },
        "id": "FBODcO1dLVoW",
        "outputId": "d25fee9e-25f5-47b1-8fb7-f8c088557e43"
      },
      "outputs": [
        {
          "data": {
            "text/plain": [
              "Text(0.55, 0.55, 'aiu')"
            ]
          },
          "execution_count": 37,
          "metadata": {},
          "output_type": "execute_result"
        },
        {
          "data": {
            "image/png": "[encoded data removed]",
            "text/plain": [
              "<Figure size 432x288 with 1 Axes>"
            ]
          },
          "metadata": {},
          "output_type": "display_data"
        }
      ],
      "source": [
        "import matplotlib.pyplot as plt \n",
        "ax = plt.gca()\n",
        "plt.xlim(0,5)\n",
        "plt.ylim(0,5)\n",
        "# ax.xaxis.set_ticklabels([])\n",
        "# ax.yaxis.set_ticklabels([])\n",
        "\n",
        "rect = plt.Rectangle(xy=(0,0), width=1, height=1, fill=False)\n",
        "ax.add_patch(rect)\n",
        "plt.text(0.55,0.55,\"aiu\")"
      ]
    },
    {
      "cell_type": "code",
      "execution_count": null,
      "metadata": {
        "colab": {
          "base_uri": "https://localhost:8080/"
        },
        "id": "2LIghdNEjMYL",
        "outputId": "2255aa3b-c029-4cb0-9c1c-d2402562ca70"
      },
      "outputs": [
        {
          "name": "stdout",
          "output_type": "stream",
          "text": [
            "['ai', 'ue']\n"
          ]
        }
      ],
      "source": [
        "a = 'ai-ue'\n",
        "print(a.split('-'))"
      ]
    },
    {
      "cell_type": "code",
      "execution_count": null,
      "metadata": {
        "colab": {
          "base_uri": "https://localhost:8080/"
        },
        "id": "b_ZKLaObbFug",
        "outputId": "4dc65180-c068-4b47-9127-fff4190bf7b3"
      },
      "outputs": [
        {
          "name": "stdout",
          "output_type": "stream",
          "text": [
            "[[[1, 2, 3], 0], [0, 0]]\n"
          ]
        }
      ],
      "source": [
        "a = [[0,0], [0,0]]\n",
        "a[0][0] = [1,2,3]\n",
        "print(a)"
      ]
    },
    {
      "cell_type": "code",
      "execution_count": null,
      "metadata": {
        "id": "pRmMh-V_zVDZ"
      },
      "outputs": [],
      "source": [
        "import numpy as np\n",
        "\n",
        "np.arange"
      ]
    },
    {
      "cell_type": "code",
      "source": [
        "a = []\n",
        "a.append(2.3)\n",
        "a\n"
      ],
      "metadata": {
        "colab": {
          "base_uri": "https://localhost:8080/"
        },
        "id": "cuy0JzlzaiLY",
        "outputId": "f9899492-21cd-41a6-b897-4476276a3583"
      },
      "execution_count": 7,
      "outputs": [
        {
          "output_type": "execute_result",
          "data": {
            "text/plain": [
              "[2.3]"
            ]
          },
          "metadata": {},
          "execution_count": 7
        }
      ]
    },
    {
      "cell_type": "code",
      "source": [],
      "metadata": {
        "id": "p1U8GoRlakRn"
      },
      "execution_count": null,
      "outputs": []
    }
  ],
  "metadata": {
    "colab": {
      "provenance": [],
      "toc_visible": true,
      "authorship_tag": "ABX9TyNQ8j0kECnLftpfJUfxHhGz",
      "include_colab_link": true
    },
    "kernelspec": {
      "display_name": "Python 3",
      "name": "python3"
    },
    "language_info": {
      "name": "python"
    },
    "accelerator": "GPU",
    "gpuClass": "standard"
  },
  "nbformat": 4,
  "nbformat_minor": 0
}